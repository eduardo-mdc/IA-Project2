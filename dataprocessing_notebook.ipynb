{
 "cells": [
  {
   "attachments": {},
   "cell_type": "markdown",
   "metadata": {},
   "source": [
    "# Data Processing Notebook.\n",
    "\n",
    "> The intent of this notebook is to generate a clean and usable dataset for machine learning purposes. Some cells also generate relevant graphs. "
   ]
  },
  {
   "attachments": {},
   "cell_type": "markdown",
   "metadata": {},
   "source": [
    "## 1. Reading Data\n",
    "\n",
    "> This section is dedicated to reading the dataset and importing all libraries. A general description of the dataset is also provided."
   ]
  },
  {
   "cell_type": "code",
   "execution_count": 1,
   "metadata": {},
   "outputs": [
    {
     "data": {
      "text/html": [
       "<div>\n",
       "<style scoped>\n",
       "    .dataframe tbody tr th:only-of-type {\n",
       "        vertical-align: middle;\n",
       "    }\n",
       "\n",
       "    .dataframe tbody tr th {\n",
       "        vertical-align: top;\n",
       "    }\n",
       "\n",
       "    .dataframe thead th {\n",
       "        text-align: right;\n",
       "    }\n",
       "</style>\n",
       "<table border=\"1\" class=\"dataframe\">\n",
       "  <thead>\n",
       "    <tr style=\"text-align: right;\">\n",
       "      <th></th>\n",
       "      <th>Grade</th>\n",
       "      <th>Gender</th>\n",
       "      <th>Age_at_diagnosis</th>\n",
       "      <th>Race</th>\n",
       "      <th>IDH1</th>\n",
       "      <th>TP53</th>\n",
       "      <th>ATRX</th>\n",
       "      <th>PTEN</th>\n",
       "      <th>EGFR</th>\n",
       "      <th>CIC</th>\n",
       "      <th>...</th>\n",
       "      <th>FUBP1</th>\n",
       "      <th>RB1</th>\n",
       "      <th>NOTCH1</th>\n",
       "      <th>BCOR</th>\n",
       "      <th>CSMD3</th>\n",
       "      <th>SMARCA4</th>\n",
       "      <th>GRIN2A</th>\n",
       "      <th>IDH2</th>\n",
       "      <th>FAT4</th>\n",
       "      <th>PDGFRA</th>\n",
       "    </tr>\n",
       "  </thead>\n",
       "  <tbody>\n",
       "    <tr>\n",
       "      <th>0</th>\n",
       "      <td>0</td>\n",
       "      <td>0</td>\n",
       "      <td>51.30</td>\n",
       "      <td>0</td>\n",
       "      <td>1</td>\n",
       "      <td>0</td>\n",
       "      <td>0</td>\n",
       "      <td>0</td>\n",
       "      <td>0</td>\n",
       "      <td>0</td>\n",
       "      <td>...</td>\n",
       "      <td>1</td>\n",
       "      <td>0</td>\n",
       "      <td>0</td>\n",
       "      <td>0</td>\n",
       "      <td>0</td>\n",
       "      <td>0</td>\n",
       "      <td>0</td>\n",
       "      <td>0</td>\n",
       "      <td>0</td>\n",
       "      <td>0</td>\n",
       "    </tr>\n",
       "    <tr>\n",
       "      <th>1</th>\n",
       "      <td>0</td>\n",
       "      <td>0</td>\n",
       "      <td>38.72</td>\n",
       "      <td>0</td>\n",
       "      <td>1</td>\n",
       "      <td>0</td>\n",
       "      <td>0</td>\n",
       "      <td>0</td>\n",
       "      <td>0</td>\n",
       "      <td>1</td>\n",
       "      <td>...</td>\n",
       "      <td>0</td>\n",
       "      <td>0</td>\n",
       "      <td>0</td>\n",
       "      <td>0</td>\n",
       "      <td>0</td>\n",
       "      <td>0</td>\n",
       "      <td>0</td>\n",
       "      <td>0</td>\n",
       "      <td>0</td>\n",
       "      <td>0</td>\n",
       "    </tr>\n",
       "    <tr>\n",
       "      <th>2</th>\n",
       "      <td>0</td>\n",
       "      <td>0</td>\n",
       "      <td>35.17</td>\n",
       "      <td>0</td>\n",
       "      <td>1</td>\n",
       "      <td>1</td>\n",
       "      <td>1</td>\n",
       "      <td>0</td>\n",
       "      <td>0</td>\n",
       "      <td>0</td>\n",
       "      <td>...</td>\n",
       "      <td>0</td>\n",
       "      <td>0</td>\n",
       "      <td>0</td>\n",
       "      <td>0</td>\n",
       "      <td>0</td>\n",
       "      <td>0</td>\n",
       "      <td>0</td>\n",
       "      <td>0</td>\n",
       "      <td>0</td>\n",
       "      <td>0</td>\n",
       "    </tr>\n",
       "    <tr>\n",
       "      <th>3</th>\n",
       "      <td>0</td>\n",
       "      <td>1</td>\n",
       "      <td>32.78</td>\n",
       "      <td>0</td>\n",
       "      <td>1</td>\n",
       "      <td>1</td>\n",
       "      <td>1</td>\n",
       "      <td>0</td>\n",
       "      <td>0</td>\n",
       "      <td>0</td>\n",
       "      <td>...</td>\n",
       "      <td>0</td>\n",
       "      <td>0</td>\n",
       "      <td>0</td>\n",
       "      <td>0</td>\n",
       "      <td>0</td>\n",
       "      <td>0</td>\n",
       "      <td>0</td>\n",
       "      <td>0</td>\n",
       "      <td>1</td>\n",
       "      <td>0</td>\n",
       "    </tr>\n",
       "    <tr>\n",
       "      <th>4</th>\n",
       "      <td>0</td>\n",
       "      <td>0</td>\n",
       "      <td>31.51</td>\n",
       "      <td>0</td>\n",
       "      <td>1</td>\n",
       "      <td>1</td>\n",
       "      <td>1</td>\n",
       "      <td>0</td>\n",
       "      <td>0</td>\n",
       "      <td>0</td>\n",
       "      <td>...</td>\n",
       "      <td>0</td>\n",
       "      <td>0</td>\n",
       "      <td>0</td>\n",
       "      <td>0</td>\n",
       "      <td>0</td>\n",
       "      <td>0</td>\n",
       "      <td>0</td>\n",
       "      <td>0</td>\n",
       "      <td>0</td>\n",
       "      <td>0</td>\n",
       "    </tr>\n",
       "  </tbody>\n",
       "</table>\n",
       "<p>5 rows × 24 columns</p>\n",
       "</div>"
      ],
      "text/plain": [
       "   Grade  Gender  Age_at_diagnosis  Race  IDH1  TP53  ATRX  PTEN  EGFR  CIC  \\\n",
       "0      0       0             51.30     0     1     0     0     0     0    0   \n",
       "1      0       0             38.72     0     1     0     0     0     0    1   \n",
       "2      0       0             35.17     0     1     1     1     0     0    0   \n",
       "3      0       1             32.78     0     1     1     1     0     0    0   \n",
       "4      0       0             31.51     0     1     1     1     0     0    0   \n",
       "\n",
       "   ...  FUBP1  RB1  NOTCH1  BCOR  CSMD3  SMARCA4  GRIN2A  IDH2  FAT4  PDGFRA  \n",
       "0  ...      1    0       0     0      0        0       0     0     0       0  \n",
       "1  ...      0    0       0     0      0        0       0     0     0       0  \n",
       "2  ...      0    0       0     0      0        0       0     0     0       0  \n",
       "3  ...      0    0       0     0      0        0       0     0     1       0  \n",
       "4  ...      0    0       0     0      0        0       0     0     0       0  \n",
       "\n",
       "[5 rows x 24 columns]"
      ]
     },
     "execution_count": 1,
     "metadata": {},
     "output_type": "execute_result"
    }
   ],
   "source": [
    "import pandas as pd\n",
    "%matplotlib inline\n",
    "import matplotlib.pyplot as plt\n",
    "import seaborn as sb\n",
    "from imblearn.over_sampling import RandomOverSampler\n",
    "from imblearn.under_sampling import RandomUnderSampler\n",
    "import numpy as np\n",
    "\n",
    "mutation_data = pd.read_csv(\"data/mutation_data.csv\")\n",
    "mutation_data.head()"
   ]
  },
  {
   "cell_type": "code",
   "execution_count": 5,
   "metadata": {
    "scrolled": true
   },
   "outputs": [
    {
     "data": {
      "text/html": [
       "<div>\n",
       "<style scoped>\n",
       "    .dataframe tbody tr th:only-of-type {\n",
       "        vertical-align: middle;\n",
       "    }\n",
       "\n",
       "    .dataframe tbody tr th {\n",
       "        vertical-align: top;\n",
       "    }\n",
       "\n",
       "    .dataframe thead th {\n",
       "        text-align: right;\n",
       "    }\n",
       "</style>\n",
       "<table border=\"1\" class=\"dataframe\">\n",
       "  <thead>\n",
       "    <tr style=\"text-align: right;\">\n",
       "      <th></th>\n",
       "      <th>Grade</th>\n",
       "      <th>Gender</th>\n",
       "      <th>Age_at_diagnosis</th>\n",
       "      <th>Race</th>\n",
       "      <th>IDH1</th>\n",
       "      <th>TP53</th>\n",
       "      <th>ATRX</th>\n",
       "      <th>PTEN</th>\n",
       "      <th>EGFR</th>\n",
       "      <th>CIC</th>\n",
       "      <th>...</th>\n",
       "      <th>FUBP1</th>\n",
       "      <th>RB1</th>\n",
       "      <th>NOTCH1</th>\n",
       "      <th>BCOR</th>\n",
       "      <th>CSMD3</th>\n",
       "      <th>SMARCA4</th>\n",
       "      <th>GRIN2A</th>\n",
       "      <th>IDH2</th>\n",
       "      <th>FAT4</th>\n",
       "      <th>PDGFRA</th>\n",
       "    </tr>\n",
       "  </thead>\n",
       "  <tbody>\n",
       "    <tr>\n",
       "      <th>count</th>\n",
       "      <td>839.000000</td>\n",
       "      <td>839.000000</td>\n",
       "      <td>839.000000</td>\n",
       "      <td>839.000000</td>\n",
       "      <td>839.000000</td>\n",
       "      <td>839.000000</td>\n",
       "      <td>839.000000</td>\n",
       "      <td>839.000000</td>\n",
       "      <td>839.000000</td>\n",
       "      <td>839.000000</td>\n",
       "      <td>...</td>\n",
       "      <td>839.000000</td>\n",
       "      <td>839.000000</td>\n",
       "      <td>839.000000</td>\n",
       "      <td>839.000000</td>\n",
       "      <td>839.000000</td>\n",
       "      <td>839.000000</td>\n",
       "      <td>839.000000</td>\n",
       "      <td>839.000000</td>\n",
       "      <td>839.000000</td>\n",
       "      <td>839.000000</td>\n",
       "    </tr>\n",
       "    <tr>\n",
       "      <th>mean</th>\n",
       "      <td>0.419547</td>\n",
       "      <td>0.418355</td>\n",
       "      <td>50.935411</td>\n",
       "      <td>0.107271</td>\n",
       "      <td>0.481526</td>\n",
       "      <td>0.414779</td>\n",
       "      <td>0.258641</td>\n",
       "      <td>0.168057</td>\n",
       "      <td>0.133492</td>\n",
       "      <td>0.132300</td>\n",
       "      <td>...</td>\n",
       "      <td>0.053635</td>\n",
       "      <td>0.047676</td>\n",
       "      <td>0.045292</td>\n",
       "      <td>0.034565</td>\n",
       "      <td>0.032181</td>\n",
       "      <td>0.032181</td>\n",
       "      <td>0.032181</td>\n",
       "      <td>0.027414</td>\n",
       "      <td>0.027414</td>\n",
       "      <td>0.026222</td>\n",
       "    </tr>\n",
       "    <tr>\n",
       "      <th>std</th>\n",
       "      <td>0.493779</td>\n",
       "      <td>0.493583</td>\n",
       "      <td>15.702339</td>\n",
       "      <td>0.369392</td>\n",
       "      <td>0.499957</td>\n",
       "      <td>0.492978</td>\n",
       "      <td>0.438149</td>\n",
       "      <td>0.374140</td>\n",
       "      <td>0.340309</td>\n",
       "      <td>0.339019</td>\n",
       "      <td>...</td>\n",
       "      <td>0.225431</td>\n",
       "      <td>0.213206</td>\n",
       "      <td>0.208068</td>\n",
       "      <td>0.182784</td>\n",
       "      <td>0.176586</td>\n",
       "      <td>0.176586</td>\n",
       "      <td>0.176586</td>\n",
       "      <td>0.163383</td>\n",
       "      <td>0.163383</td>\n",
       "      <td>0.159889</td>\n",
       "    </tr>\n",
       "    <tr>\n",
       "      <th>min</th>\n",
       "      <td>0.000000</td>\n",
       "      <td>0.000000</td>\n",
       "      <td>14.420000</td>\n",
       "      <td>0.000000</td>\n",
       "      <td>0.000000</td>\n",
       "      <td>0.000000</td>\n",
       "      <td>0.000000</td>\n",
       "      <td>0.000000</td>\n",
       "      <td>0.000000</td>\n",
       "      <td>0.000000</td>\n",
       "      <td>...</td>\n",
       "      <td>0.000000</td>\n",
       "      <td>0.000000</td>\n",
       "      <td>0.000000</td>\n",
       "      <td>0.000000</td>\n",
       "      <td>0.000000</td>\n",
       "      <td>0.000000</td>\n",
       "      <td>0.000000</td>\n",
       "      <td>0.000000</td>\n",
       "      <td>0.000000</td>\n",
       "      <td>0.000000</td>\n",
       "    </tr>\n",
       "    <tr>\n",
       "      <th>25%</th>\n",
       "      <td>0.000000</td>\n",
       "      <td>0.000000</td>\n",
       "      <td>38.055000</td>\n",
       "      <td>0.000000</td>\n",
       "      <td>0.000000</td>\n",
       "      <td>0.000000</td>\n",
       "      <td>0.000000</td>\n",
       "      <td>0.000000</td>\n",
       "      <td>0.000000</td>\n",
       "      <td>0.000000</td>\n",
       "      <td>...</td>\n",
       "      <td>0.000000</td>\n",
       "      <td>0.000000</td>\n",
       "      <td>0.000000</td>\n",
       "      <td>0.000000</td>\n",
       "      <td>0.000000</td>\n",
       "      <td>0.000000</td>\n",
       "      <td>0.000000</td>\n",
       "      <td>0.000000</td>\n",
       "      <td>0.000000</td>\n",
       "      <td>0.000000</td>\n",
       "    </tr>\n",
       "    <tr>\n",
       "      <th>50%</th>\n",
       "      <td>0.000000</td>\n",
       "      <td>0.000000</td>\n",
       "      <td>51.550000</td>\n",
       "      <td>0.000000</td>\n",
       "      <td>0.000000</td>\n",
       "      <td>0.000000</td>\n",
       "      <td>0.000000</td>\n",
       "      <td>0.000000</td>\n",
       "      <td>0.000000</td>\n",
       "      <td>0.000000</td>\n",
       "      <td>...</td>\n",
       "      <td>0.000000</td>\n",
       "      <td>0.000000</td>\n",
       "      <td>0.000000</td>\n",
       "      <td>0.000000</td>\n",
       "      <td>0.000000</td>\n",
       "      <td>0.000000</td>\n",
       "      <td>0.000000</td>\n",
       "      <td>0.000000</td>\n",
       "      <td>0.000000</td>\n",
       "      <td>0.000000</td>\n",
       "    </tr>\n",
       "    <tr>\n",
       "      <th>75%</th>\n",
       "      <td>1.000000</td>\n",
       "      <td>1.000000</td>\n",
       "      <td>62.800000</td>\n",
       "      <td>0.000000</td>\n",
       "      <td>1.000000</td>\n",
       "      <td>1.000000</td>\n",
       "      <td>1.000000</td>\n",
       "      <td>0.000000</td>\n",
       "      <td>0.000000</td>\n",
       "      <td>0.000000</td>\n",
       "      <td>...</td>\n",
       "      <td>0.000000</td>\n",
       "      <td>0.000000</td>\n",
       "      <td>0.000000</td>\n",
       "      <td>0.000000</td>\n",
       "      <td>0.000000</td>\n",
       "      <td>0.000000</td>\n",
       "      <td>0.000000</td>\n",
       "      <td>0.000000</td>\n",
       "      <td>0.000000</td>\n",
       "      <td>0.000000</td>\n",
       "    </tr>\n",
       "    <tr>\n",
       "      <th>max</th>\n",
       "      <td>1.000000</td>\n",
       "      <td>1.000000</td>\n",
       "      <td>89.290000</td>\n",
       "      <td>3.000000</td>\n",
       "      <td>1.000000</td>\n",
       "      <td>1.000000</td>\n",
       "      <td>1.000000</td>\n",
       "      <td>1.000000</td>\n",
       "      <td>1.000000</td>\n",
       "      <td>1.000000</td>\n",
       "      <td>...</td>\n",
       "      <td>1.000000</td>\n",
       "      <td>1.000000</td>\n",
       "      <td>1.000000</td>\n",
       "      <td>1.000000</td>\n",
       "      <td>1.000000</td>\n",
       "      <td>1.000000</td>\n",
       "      <td>1.000000</td>\n",
       "      <td>1.000000</td>\n",
       "      <td>1.000000</td>\n",
       "      <td>1.000000</td>\n",
       "    </tr>\n",
       "  </tbody>\n",
       "</table>\n",
       "<p>8 rows × 24 columns</p>\n",
       "</div>"
      ],
      "text/plain": [
       "            Grade      Gender  Age_at_diagnosis        Race        IDH1   \n",
       "count  839.000000  839.000000        839.000000  839.000000  839.000000  \\\n",
       "mean     0.419547    0.418355         50.935411    0.107271    0.481526   \n",
       "std      0.493779    0.493583         15.702339    0.369392    0.499957   \n",
       "min      0.000000    0.000000         14.420000    0.000000    0.000000   \n",
       "25%      0.000000    0.000000         38.055000    0.000000    0.000000   \n",
       "50%      0.000000    0.000000         51.550000    0.000000    0.000000   \n",
       "75%      1.000000    1.000000         62.800000    0.000000    1.000000   \n",
       "max      1.000000    1.000000         89.290000    3.000000    1.000000   \n",
       "\n",
       "             TP53        ATRX        PTEN        EGFR         CIC  ...   \n",
       "count  839.000000  839.000000  839.000000  839.000000  839.000000  ...  \\\n",
       "mean     0.414779    0.258641    0.168057    0.133492    0.132300  ...   \n",
       "std      0.492978    0.438149    0.374140    0.340309    0.339019  ...   \n",
       "min      0.000000    0.000000    0.000000    0.000000    0.000000  ...   \n",
       "25%      0.000000    0.000000    0.000000    0.000000    0.000000  ...   \n",
       "50%      0.000000    0.000000    0.000000    0.000000    0.000000  ...   \n",
       "75%      1.000000    1.000000    0.000000    0.000000    0.000000  ...   \n",
       "max      1.000000    1.000000    1.000000    1.000000    1.000000  ...   \n",
       "\n",
       "            FUBP1         RB1      NOTCH1        BCOR       CSMD3     SMARCA4   \n",
       "count  839.000000  839.000000  839.000000  839.000000  839.000000  839.000000  \\\n",
       "mean     0.053635    0.047676    0.045292    0.034565    0.032181    0.032181   \n",
       "std      0.225431    0.213206    0.208068    0.182784    0.176586    0.176586   \n",
       "min      0.000000    0.000000    0.000000    0.000000    0.000000    0.000000   \n",
       "25%      0.000000    0.000000    0.000000    0.000000    0.000000    0.000000   \n",
       "50%      0.000000    0.000000    0.000000    0.000000    0.000000    0.000000   \n",
       "75%      0.000000    0.000000    0.000000    0.000000    0.000000    0.000000   \n",
       "max      1.000000    1.000000    1.000000    1.000000    1.000000    1.000000   \n",
       "\n",
       "           GRIN2A        IDH2        FAT4      PDGFRA  \n",
       "count  839.000000  839.000000  839.000000  839.000000  \n",
       "mean     0.032181    0.027414    0.027414    0.026222  \n",
       "std      0.176586    0.163383    0.163383    0.159889  \n",
       "min      0.000000    0.000000    0.000000    0.000000  \n",
       "25%      0.000000    0.000000    0.000000    0.000000  \n",
       "50%      0.000000    0.000000    0.000000    0.000000  \n",
       "75%      0.000000    0.000000    0.000000    0.000000  \n",
       "max      1.000000    1.000000    1.000000    1.000000  \n",
       "\n",
       "[8 rows x 24 columns]"
      ]
     },
     "execution_count": 5,
     "metadata": {},
     "output_type": "execute_result"
    }
   ],
   "source": [
    "mutation_data.describe()"
   ]
  },
  {
   "attachments": {},
   "cell_type": "markdown",
   "metadata": {},
   "source": [
    "## 2. Creating relevant Graphs"
   ]
  },
  {
   "attachments": {},
   "cell_type": "markdown",
   "metadata": {},
   "source": [
    "# 2.1 Pair Plots\n",
    "\n",
    "\n",
    "> This kind of graph allows us to see a general overview of the dataset. However this visualization is very broad and its difficult to see certain details. We will create 3 pair plots based on each relevant feature class for our dataset (Gender, Age and Race)."
   ]
  },
  {
   "attachments": {},
   "cell_type": "markdown",
   "metadata": {},
   "source": [
    "### 2.1.1 Gender Based Pair Plot"
   ]
  },
  {
   "cell_type": "code",
   "execution_count": null,
   "metadata": {},
   "outputs": [],
   "source": [
    "mutation_data['Gender'].unique()\n",
    "sb.pairplot(mutation_data.dropna(), hue='Gender')"
   ]
  },
  {
   "attachments": {},
   "cell_type": "markdown",
   "metadata": {},
   "source": [
    "### 2.1.2 Age Based Pair Plot"
   ]
  },
  {
   "cell_type": "code",
   "execution_count": null,
   "metadata": {},
   "outputs": [],
   "source": [
    "mutation_data['Age_at_diagnosis'].unique()\n",
    "sb.pairplot(mutation_data.dropna(), hue='Age_at_diagnosis')"
   ]
  },
  {
   "attachments": {},
   "cell_type": "markdown",
   "metadata": {},
   "source": [
    "### 2.1.3 Race Based Pair Plot"
   ]
  },
  {
   "cell_type": "code",
   "execution_count": null,
   "metadata": {},
   "outputs": [],
   "source": [
    "mutation_data['Race'].unique()\n",
    "sb.pairplot(mutation_data.dropna(), hue='Race')"
   ]
  },
  {
   "attachments": {},
   "cell_type": "markdown",
   "metadata": {},
   "source": [
    "### 2.1.4 Pair Polot Conclusions\n",
    "\n",
    "...TBD..."
   ]
  },
  {
   "attachments": {},
   "cell_type": "markdown",
   "metadata": {},
   "source": [
    "## 2.2 Histograms\n",
    "\n",
    "> This kind of gragh is useful for one-to-one relations and allows us to easily identify certain entries which can be outliers that negatively impact our machine learning algorithms. "
   ]
  },
  {
   "attachments": {},
   "cell_type": "markdown",
   "metadata": {},
   "source": [
    "### 2.2.1 Positive Grading by Race"
   ]
  },
  {
   "cell_type": "code",
   "execution_count": null,
   "metadata": {},
   "outputs": [
    {
     "data": {
      "image/png": "[encoded data removed]",
      "text/plain": [
       "<Figure size 1000x600 with 1 Axes>"
      ]
     },
     "metadata": {},
     "output_type": "display_data"
    }
   ],
   "source": [
    "# Filter the DataFrame for Grade = 1 entries\n",
    "grade1_data = mutation_data[mutation_data['Grade'] == 1]\n",
    "\n",
    "# Calculate the percentage chance for each race category\n",
    "total_counts = mutation_data['Race'].value_counts()\n",
    "grade1_counts = grade1_data['Race'].value_counts()\n",
    "race_percentages = (grade1_counts / total_counts) * 100\n",
    "\n",
    "# Plotting the histogram\n",
    "plt.figure(figsize=(10, 6))  # Optional: Adjust the figure size\n",
    "sb.barplot(x=race_percentages.index, y=race_percentages.values)\n",
    "plt.xlabel('Race')\n",
    "plt.ylabel('% Chance of Grade = 1')\n",
    "plt.title('Percentage Chance of Grade = 1 by Race')\n",
    "plt.xticks(rotation=45)  # Optional: Rotate x-axis labels for better visibility\n",
    "plt.show()"
   ]
  },
  {
   "attachments": {},
   "cell_type": "markdown",
   "metadata": {},
   "source": [
    "#### Conclusions\n",
    "\n",
    "As we can see, apparently, there are no positive entries for the third race, but if we check the dataset, we can see that we have a single entry for race = 3, which is not enough for a good sample size. As such this entry will be deleted later on. "
   ]
  },
  {
   "attachments": {},
   "cell_type": "markdown",
   "metadata": {},
   "source": [
    "### 2.2.2 Positive Grading by Age"
   ]
  },
  {
   "cell_type": "code",
   "execution_count": null,
   "metadata": {},
   "outputs": [
    {
     "data": {
      "image/png": "[encoded data removed]",
      "text/plain": [
       "<Figure size 1000x600 with 1 Axes>"
      ]
     },
     "metadata": {},
     "output_type": "display_data"
    }
   ],
   "source": [
    "# Group age values into intervals of 5\n",
    "mutation_data['Age_Group'] = pd.cut(mutation_data['Age_at_diagnosis'], bins=range(0, int(mutation_data['Age_at_diagnosis'].max()) + 6, 5), right=False)\n",
    "\n",
    "# Filter the Grade = 1 entries based on the updated DataFrame\n",
    "grade1_data = mutation_data[mutation_data['Grade'] == 1]\n",
    "\n",
    "# Calculate the percentage chance for each age group\n",
    "total_counts = mutation_data['Age_Group'].value_counts()\n",
    "grade1_counts = grade1_data['Age_Group'].value_counts()\n",
    "age_percentages = (grade1_counts / total_counts) * 100\n",
    "\n",
    "# Sort the age groups by their numerical order\n",
    "age_percentages = age_percentages.sort_index()\n",
    "\n",
    "# Plotting the histogram\n",
    "plt.figure(figsize=(10, 6))  # Optional: Adjust the figure size\n",
    "sb.barplot(x=age_percentages.index.astype(str), y=age_percentages.values)\n",
    "plt.xlabel('Age Group')\n",
    "plt.ylabel('% Chance of Grade = 1')\n",
    "plt.title('Percentage Chance of Grade = 1 by Age Group')\n",
    "plt.xticks(rotation=45)  # Optional: Rotate x-axis labels for better visibility\n",
    "plt.show()"
   ]
  },
  {
   "attachments": {},
   "cell_type": "markdown",
   "metadata": {},
   "source": [
    "#### Conclusions\n",
    "\n",
    "From the 25, to the 90 age gap, we can see a clear increase on the percentage of positive grading, however we can see that the 20-25 age gap is a bit of an outlier. However, if we calculate the percentage of the size of the sample with the following code "
   ]
  },
  {
   "cell_type": "code",
   "execution_count": 7,
   "metadata": {},
   "outputs": [
    {
     "name": "stdout",
     "output_type": "stream",
     "text": [
      "3.337%\n"
     ]
    }
   ],
   "source": [
    "count = (mutation_data['Age_at_diagnosis'].between(20, 25)).sum()\n",
    "total_entries = len(mutation_data)\n",
    "\n",
    "print(str(round(count/total_entries * 100,3)) + \"%\")"
   ]
  },
  {
   "attachments": {},
   "cell_type": "markdown",
   "metadata": {},
   "source": [
    "As this sample size is significant (3.337%), we will, even if this data does not follow the expected values, keep these entries. "
   ]
  },
  {
   "attachments": {},
   "cell_type": "markdown",
   "metadata": {},
   "source": [
    "### 2.2.3 Dataset Balancing\n",
    "\n",
    "To create a more accurate model, we need to have a balanced dataset, which means, in this case, that we should have similar amounts of positive and negative entries for the grade class. We can check this balance by creating a plot graph."
   ]
  },
  {
   "cell_type": "code",
   "execution_count": 4,
   "metadata": {},
   "outputs": [
    {
     "data": {
      "image/png": "[encoded data removed]",
      "text/plain": [
       "<Figure size 640x480 with 1 Axes>"
      ]
     },
     "metadata": {},
     "output_type": "display_data"
    }
   ],
   "source": [
    "# Count the occurrences of each class\n",
    "grade_1_count = (mutation_data['Grade'] == 1).sum()\n",
    "grade_0_count = (mutation_data['Grade'] == 0).sum()\n",
    "\n",
    "# Create a bar plot for the class frequencies\n",
    "plt.bar(['Grade 1', 'Grade 0'], [grade_1_count, grade_0_count])\n",
    "\n",
    "# Set labels and title\n",
    "plt.xlabel('Grade')\n",
    "plt.ylabel('Frequency')\n",
    "plt.title('Histogram of Grade Frequencies')\n",
    "\n",
    "# Display the histogram\n",
    "plt.show()"
   ]
  },
  {
   "attachments": {},
   "cell_type": "markdown",
   "metadata": {},
   "source": [
    "As we can see, we have slightly more negative entries than positive entries. This means that our dataset is slightly unbalanced. To fix this we can either change certain entries where the grading is negative to be positive, or simply remove them."
   ]
  },
  {
   "attachments": {},
   "cell_type": "markdown",
   "metadata": {},
   "source": [
    "## 3 Dataset Cleaning\n",
    "\n",
    "This section will be dedicated to removing faulty entries from the dataset in order to create a correct model. The cleaned data will then be exported to a new ```.csv``` file (```data/mutation_data_clean.csv```)\n",
    "\n",
    "### 3.1 Insufficient Race Entries\n",
    "\n",
    "We do not have enough race entries, as discussed in point [2.2.1](#2.2.1) and as such, all entries for race 3 will be removed from the dataset."
   ]
  },
  {
   "cell_type": "code",
   "execution_count": null,
   "metadata": {},
   "outputs": [],
   "source": [
    "# Remove the entries with race = 3\n",
    "# TBD"
   ]
  },
  {
   "attachments": {},
   "cell_type": "markdown",
   "metadata": {},
   "source": [
    "### 3.2\n",
    "\n",
    "TBD"
   ]
  },
  {
   "attachments": {},
   "cell_type": "markdown",
   "metadata": {},
   "source": [
    "### 3.3 Unbalanced Dataset\n",
    "\n",
    "As discussed in section 2.2.3 The dataset is currently oversampled by grade = 1 entries. To fix this we can randomly undersample the majority class and oversample the minority class with the following script"
   ]
  },
  {
   "cell_type": "code",
   "execution_count": 2,
   "metadata": {},
   "outputs": [
    {
     "name": "stdout",
     "output_type": "stream",
     "text": [
      "0    487\n",
      "1    352\n",
      "Name: Grade, dtype: int64\n",
      "1    487\n",
      "0    487\n",
      "Name: Grade, dtype: int64\n"
     ]
    }
   ],
   "source": [
    "print(mutation_data['Grade'].value_counts())\n",
    "\n",
    "# Separate the majority and minority classes\n",
    "majority_class = mutation_data[mutation_data['Grade'] == 0]\n",
    "minority_class = mutation_data[mutation_data['Grade'] == 1]\n",
    "\n",
    "# Perform random oversampling of the minority class\n",
    "if len(minority_class) < len(majority_class):\n",
    "    oversampled_minority = minority_class.sample(n=len(majority_class), replace=True, random_state=42)\n",
    "    oversampled_minority_labels = oversampled_minority['Grade']\n",
    "else:\n",
    "    oversampled_minority = minority_class\n",
    "    oversampled_minority_labels = minority_class['Grade']\n",
    "\n",
    "# Perform random undersampling of the majority class\n",
    "if len(majority_class) < len(minority_class):\n",
    "    undersampled_majority = majority_class.sample(n=len(minority_class), replace=False, random_state=42)\n",
    "    undersampled_majority_labels = undersampled_majority['Grade']\n",
    "else:\n",
    "    undersampled_majority = majority_class\n",
    "    undersampled_majority_labels = majority_class['Grade']\n",
    "\n",
    "# Combine the resampled classes\n",
    "resampled_data = pd.concat([oversampled_minority, undersampled_majority])\n",
    "resampled_labels = pd.concat([oversampled_minority_labels, undersampled_majority_labels])\n",
    "\n",
    "# Display the class distribution after resampling\n",
    "print(resampled_labels.value_counts())"
   ]
  },
  {
   "attachments": {},
   "cell_type": "markdown",
   "metadata": {},
   "source": [
    "Then, after making these changes, we can save then to the local variable ```mutation_data``` and visualize them with a new graph."
   ]
  },
  {
   "cell_type": "code",
   "execution_count": null,
   "metadata": {},
   "outputs": [],
   "source": [
    "mutation_data = pd.concat([resampled_data, resampled_labels], axis=1)\n",
    "\n",
    "# Count the occurrences of each class\n",
    "grade_1_count = (resampled_data['Grade'] == 1).sum()\n",
    "grade_0_count = (resampled_data['Grade'] == 0).sum()\n",
    "\n",
    "# Create a bar plot for the class frequencies\n",
    "plt.bar(['Grade 1', 'Grade 0'], [grade_1_count, grade_0_count])\n",
    "\n",
    "# Set labels and title\n",
    "plt.xlabel('Grade')\n",
    "plt.ylabel('Frequency')\n",
    "plt.title('Histogram of Grade Frequencies')\n",
    "\n",
    "# Display the histogram\n",
    "plt.show()"
   ]
  },
  {
   "attachments": {},
   "cell_type": "markdown",
   "metadata": {},
   "source": [
    "## 4. Saving Changes to CSV\n",
    "\n",
    "After analyzing and changing the dataset to create a more accurate model, we can the dataset to a new ```.csv``` file in ```data/mutation_data_clean.csv```"
   ]
  },
  {
   "cell_type": "code",
   "execution_count": null,
   "metadata": {},
   "outputs": [],
   "source": [
    "# Save the data to a new CSV file\n",
    "resampled_data.to_csv('data/mutation_data_clean.csv', index=False)"
   ]
  }
 ],
 "metadata": {
  "kernelspec": {
   "display_name": "Python 3 (ipykernel)",
   "language": "python",
   "name": "python3"
  },
  "language_info": {
   "codemirror_mode": {
    "name": "ipython",
    "version": 3
   },
   "file_extension": ".py",
   "mimetype": "text/x-python",
   "name": "python",
   "nbconvert_exporter": "python",
   "pygments_lexer": "ipython3",
   "version": "3.10.6"
  }
 },
 "nbformat": 4,
 "nbformat_minor": 1
}
